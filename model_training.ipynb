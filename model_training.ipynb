{
 "cells": [
  {
   "cell_type": "code",
   "execution_count": 27,
   "metadata": {},
   "outputs": [],
   "source": [
    "from sklearn.model_selection import train_test_split\n",
    "import numpy as np\n",
    "import pandas as pd"
   ]
  },
  {
   "cell_type": "code",
   "execution_count": 28,
   "metadata": {},
   "outputs": [
    {
     "data": {
      "text/html": [
       "<div>\n",
       "<style scoped>\n",
       "    .dataframe tbody tr th:only-of-type {\n",
       "        vertical-align: middle;\n",
       "    }\n",
       "\n",
       "    .dataframe tbody tr th {\n",
       "        vertical-align: top;\n",
       "    }\n",
       "\n",
       "    .dataframe thead th {\n",
       "        text-align: right;\n",
       "    }\n",
       "</style>\n",
       "<table border=\"1\" class=\"dataframe\">\n",
       "  <thead>\n",
       "    <tr style=\"text-align: right;\">\n",
       "      <th></th>\n",
       "      <th>Size</th>\n",
       "      <th>No_of_BHK</th>\n",
       "      <th>Furnished</th>\n",
       "      <th>Property_type</th>\n",
       "      <th>City_name</th>\n",
       "      <th>Price</th>\n",
       "    </tr>\n",
       "  </thead>\n",
       "  <tbody>\n",
       "    <tr>\n",
       "      <th>0</th>\n",
       "      <td>1.750</td>\n",
       "      <td>3</td>\n",
       "      <td>0</td>\n",
       "      <td>0</td>\n",
       "      <td>7</td>\n",
       "      <td>75.0000</td>\n",
       "    </tr>\n",
       "    <tr>\n",
       "      <th>1</th>\n",
       "      <td>3.384</td>\n",
       "      <td>4</td>\n",
       "      <td>0</td>\n",
       "      <td>0</td>\n",
       "      <td>7</td>\n",
       "      <td>236.8800</td>\n",
       "    </tr>\n",
       "    <tr>\n",
       "      <th>2</th>\n",
       "      <td>2.295</td>\n",
       "      <td>3</td>\n",
       "      <td>0</td>\n",
       "      <td>0</td>\n",
       "      <td>7</td>\n",
       "      <td>132.0084</td>\n",
       "    </tr>\n",
       "    <tr>\n",
       "      <th>3</th>\n",
       "      <td>0.918</td>\n",
       "      <td>2</td>\n",
       "      <td>0</td>\n",
       "      <td>0</td>\n",
       "      <td>7</td>\n",
       "      <td>22.8300</td>\n",
       "    </tr>\n",
       "    <tr>\n",
       "      <th>4</th>\n",
       "      <td>1.760</td>\n",
       "      <td>3</td>\n",
       "      <td>0</td>\n",
       "      <td>0</td>\n",
       "      <td>7</td>\n",
       "      <td>93.7100</td>\n",
       "    </tr>\n",
       "  </tbody>\n",
       "</table>\n",
       "</div>"
      ],
      "text/plain": [
       "    Size  No_of_BHK  Furnished  Property_type  City_name     Price\n",
       "0  1.750          3          0              0          7   75.0000\n",
       "1  3.384          4          0              0          7  236.8800\n",
       "2  2.295          3          0              0          7  132.0084\n",
       "3  0.918          2          0              0          7   22.8300\n",
       "4  1.760          3          0              0          7   93.7100"
      ]
     },
     "execution_count": 28,
     "metadata": {},
     "output_type": "execute_result"
    }
   ],
   "source": [
    "df = pd.read_csv('Processed_data.csv')\n",
    "df.head()"
   ]
  },
  {
   "cell_type": "code",
   "execution_count": 29,
   "metadata": {},
   "outputs": [],
   "source": [
    "x = df.drop('Price', axis=1)\n",
    "y = df['Price']"
   ]
  },
  {
   "cell_type": "code",
   "execution_count": 30,
   "metadata": {},
   "outputs": [
    {
     "name": "stdout",
     "output_type": "stream",
     "text": [
      "Training Data Shape: (265676, 5), (265676,)\n",
      "Testing Data Shape: (66420, 5), (66420,)\n"
     ]
    }
   ],
   "source": [
    "X_train, X_test, y_train, y_test = train_test_split(x,y,test_size=0.2,random_state=42)\n",
    "\n",
    "print(f\"Training Data Shape: {X_train.shape}, {y_train.shape}\")\n",
    "print(f\"Testing Data Shape: {X_test.shape}, {y_test.shape}\")"
   ]
  },
  {
   "cell_type": "code",
   "execution_count": 31,
   "metadata": {},
   "outputs": [],
   "source": [
    "from sklearn.linear_model import LinearRegression\n",
    "from sklearn.ensemble import RandomForestRegressor\n",
    "import xgboost as xgb\n",
    "from sklearn.metrics import mean_absolute_error, mean_squared_error, r2_score"
   ]
  },
  {
   "cell_type": "code",
   "execution_count": 32,
   "metadata": {},
   "outputs": [
    {
     "name": "stdout",
     "output_type": "stream",
     "text": [
      "Linear Regression:\n",
      "MAE: 141.26\n",
      "MSE: 170037.23\n",
      "R² Score: 0.16\n",
      "\n"
     ]
    }
   ],
   "source": [
    "# Linear regression\n",
    "linear_model = LinearRegression()\n",
    "linear_model.fit(X_train, y_train)\n",
    "\n",
    "y_pred_lr = linear_model.predict(X_test)\n",
    "\n",
    "print(\"Linear Regression:\")\n",
    "print(f\"MAE: {mean_absolute_error(y_test, y_pred_lr):.2f}\")\n",
    "print(f\"MSE: {mean_squared_error(y_test, y_pred_lr):.2f}\")\n",
    "print(f\"R² Score: {r2_score(y_test, y_pred_lr):.2f}\\n\")"
   ]
  },
  {
   "cell_type": "code",
   "execution_count": 33,
   "metadata": {},
   "outputs": [
    {
     "name": "stdout",
     "output_type": "stream",
     "text": [
      "Random Forest Regressor:\n",
      "MAE: 57.35\n",
      "MSE: 59025.53\n",
      "R² Score: 0.71\n",
      "\n"
     ]
    }
   ],
   "source": [
    "# Random Forest \n",
    "rf_model = RandomForestRegressor(n_estimators=100, random_state=42)\n",
    "rf_model.fit(X_train, y_train)\n",
    "\n",
    "# Make predictions\n",
    "y_pred_rf = rf_model.predict(X_test)\n",
    "\n",
    "# Evaluate the model\n",
    "print(\"Random Forest Regressor:\")\n",
    "print(f\"MAE: {mean_absolute_error(y_test, y_pred_rf):.2f}\")\n",
    "print(f\"MSE: {mean_squared_error(y_test, y_pred_rf):.2f}\")\n",
    "print(f\"R² Score: {r2_score(y_test, y_pred_rf):.2f}\\n\")"
   ]
  },
  {
   "cell_type": "code",
   "execution_count": 34,
   "metadata": {},
   "outputs": [
    {
     "name": "stdout",
     "output_type": "stream",
     "text": [
      "XGBoost Regressor:\n",
      "MAE: 61.06\n",
      "MSE: 55166.24\n",
      "R² Score: 0.73\n",
      "\n"
     ]
    }
   ],
   "source": [
    "# xgboost\n",
    "xgboost_model = xgb.XGBRegressor(n_estimators=100, random_state=42)\n",
    "xgboost_model.fit(X_train, y_train)\n",
    "\n",
    "# Make predictions\n",
    "y_pred_xgb = xgboost_model.predict(X_test)\n",
    "\n",
    "# Evaluate the model\n",
    "print(\"XGBoost Regressor:\")\n",
    "print(f\"MAE: {mean_absolute_error(y_test, y_pred_xgb):.2f}\")\n",
    "print(f\"MSE: {mean_squared_error(y_test, y_pred_xgb):.2f}\")\n",
    "print(f\"R² Score: {r2_score(y_test, y_pred_xgb):.2f}\\n\")"
   ]
  },
  {
   "cell_type": "code",
   "execution_count": 35,
   "metadata": {},
   "outputs": [],
   "source": [
    "import torch\n",
    "import torch.nn as nn\n",
    "import torch.optim as optim\n",
    "\n",
    "X_train = torch.tensor(X_train.values, dtype=torch.float32)\n",
    "X_test = torch.tensor(X_test.values, dtype=torch.float32)\n",
    "y_train = torch.tensor(y_train.values, dtype=torch.float32).view(-1, 1)\n",
    "y_test = torch.tensor(y_test.values, dtype=torch.float32).view(-1, 1)"
   ]
  },
  {
   "cell_type": "code",
   "execution_count": 50,
   "metadata": {},
   "outputs": [],
   "source": [
    "import torch.nn.functional as F"
   ]
  },
  {
   "cell_type": "code",
   "execution_count": 58,
   "metadata": {},
   "outputs": [
    {
     "name": "stdout",
     "output_type": "stream",
     "text": [
      "Epoch [10/1000], Loss: 203072.7500\n",
      "Epoch [20/1000], Loss: 176140.1406\n",
      "Epoch [30/1000], Loss: 127525.6562\n",
      "Epoch [40/1000], Loss: 109090.5000\n",
      "Epoch [50/1000], Loss: 100524.7969\n",
      "Epoch [60/1000], Loss: 96776.6875\n",
      "Epoch [70/1000], Loss: 91149.8828\n",
      "Epoch [80/1000], Loss: 96263.1328\n",
      "Epoch [90/1000], Loss: 83211.7344\n",
      "Epoch [100/1000], Loss: 79908.7656\n",
      "Epoch [110/1000], Loss: 77351.7578\n",
      "Epoch [120/1000], Loss: 74722.4844\n",
      "Epoch [130/1000], Loss: 72748.6953\n",
      "Epoch [140/1000], Loss: 97878.7578\n",
      "Epoch [150/1000], Loss: 79586.0078\n",
      "Epoch [160/1000], Loss: 74268.8281\n",
      "Epoch [170/1000], Loss: 71832.5703\n",
      "Epoch [180/1000], Loss: 70938.4766\n",
      "Epoch [190/1000], Loss: 69602.4609\n",
      "Epoch [200/1000], Loss: 68692.9531\n",
      "Epoch [210/1000], Loss: 67717.1406\n",
      "Epoch [220/1000], Loss: 67786.8984\n",
      "Epoch [230/1000], Loss: 67901.2891\n",
      "Epoch [240/1000], Loss: 67248.3359\n",
      "Epoch [250/1000], Loss: 66120.2500\n",
      "Epoch [260/1000], Loss: 66590.5078\n",
      "Epoch [270/1000], Loss: 76703.7734\n",
      "Epoch [280/1000], Loss: 70743.7344\n",
      "Epoch [290/1000], Loss: 68578.6016\n",
      "Epoch [300/1000], Loss: 67236.7109\n",
      "Epoch [310/1000], Loss: 67926.4922\n",
      "Epoch [320/1000], Loss: 66408.2500\n",
      "Epoch [330/1000], Loss: 65413.0703\n",
      "Epoch [340/1000], Loss: 65388.3164\n",
      "Epoch [350/1000], Loss: 64862.8672\n",
      "Epoch [360/1000], Loss: 64515.7266\n",
      "Epoch [370/1000], Loss: 64633.7344\n",
      "Epoch [380/1000], Loss: 64225.9570\n",
      "Epoch [390/1000], Loss: 63707.1875\n",
      "Epoch [400/1000], Loss: 63912.8711\n",
      "Epoch [410/1000], Loss: 64215.8047\n",
      "Epoch [420/1000], Loss: 64253.3945\n",
      "Epoch [430/1000], Loss: 63154.1055\n",
      "Epoch [440/1000], Loss: 110107.8984\n",
      "Epoch [450/1000], Loss: 4620656.0000\n",
      "Epoch [460/1000], Loss: 238511.2812\n",
      "Epoch [470/1000], Loss: 238106.9531\n",
      "Epoch [480/1000], Loss: 237071.0312\n",
      "Epoch [490/1000], Loss: 263997.5312\n",
      "Epoch [500/1000], Loss: 237340.4688\n",
      "Epoch [510/1000], Loss: 235963.7969\n",
      "Epoch [520/1000], Loss: 235184.5156\n",
      "Epoch [530/1000], Loss: 234617.2969\n",
      "Epoch [540/1000], Loss: 234103.7031\n",
      "Epoch [550/1000], Loss: 233624.7188\n",
      "Epoch [560/1000], Loss: 233171.4062\n",
      "Epoch [570/1000], Loss: 232740.8594\n",
      "Epoch [580/1000], Loss: 232330.6406\n",
      "Epoch [590/1000], Loss: 231938.7188\n",
      "Epoch [600/1000], Loss: 231563.3438\n",
      "Epoch [610/1000], Loss: 231202.9844\n",
      "Epoch [620/1000], Loss: 230856.4219\n",
      "Epoch [630/1000], Loss: 230522.5938\n",
      "Epoch [640/1000], Loss: 230200.4844\n",
      "Epoch [650/1000], Loss: 229889.3125\n",
      "Epoch [660/1000], Loss: 229588.3281\n",
      "Epoch [670/1000], Loss: 229296.9375\n",
      "Epoch [680/1000], Loss: 229014.5000\n",
      "Epoch [690/1000], Loss: 228740.5312\n",
      "Epoch [700/1000], Loss: 228474.5781\n",
      "Epoch [710/1000], Loss: 228216.1875\n",
      "Epoch [720/1000], Loss: 227964.9844\n",
      "Epoch [730/1000], Loss: 227720.5938\n",
      "Epoch [740/1000], Loss: 227482.7969\n",
      "Epoch [750/1000], Loss: 227251.1562\n",
      "Epoch [760/1000], Loss: 227025.5156\n",
      "Epoch [770/1000], Loss: 226805.5938\n",
      "Epoch [780/1000], Loss: 226591.1250\n",
      "Epoch [790/1000], Loss: 226381.9688\n",
      "Epoch [800/1000], Loss: 226177.8438\n",
      "Epoch [810/1000], Loss: 225978.6406\n",
      "Epoch [820/1000], Loss: 225784.1250\n",
      "Epoch [830/1000], Loss: 225594.1562\n",
      "Epoch [840/1000], Loss: 225408.5781\n",
      "Epoch [850/1000], Loss: 225227.2500\n",
      "Epoch [860/1000], Loss: 225050.0469\n",
      "Epoch [870/1000], Loss: 224876.8594\n",
      "Epoch [880/1000], Loss: 224707.5000\n",
      "Epoch [890/1000], Loss: 224541.8750\n",
      "Epoch [900/1000], Loss: 224379.9375\n",
      "Epoch [910/1000], Loss: 224221.5469\n",
      "Epoch [920/1000], Loss: 224066.5625\n",
      "Epoch [930/1000], Loss: 223914.9531\n",
      "Epoch [940/1000], Loss: 223766.6094\n",
      "Epoch [950/1000], Loss: 223621.4219\n",
      "Epoch [960/1000], Loss: 223479.3438\n",
      "Epoch [970/1000], Loss: 223340.2656\n",
      "Epoch [980/1000], Loss: 223204.1562\n",
      "Epoch [990/1000], Loss: 223070.9219\n",
      "Epoch [1000/1000], Loss: 222940.4688\n"
     ]
    }
   ],
   "source": [
    "class NeuralNetwork(nn.Module):\n",
    "    def __init__(self, input_size):\n",
    "        super(NeuralNetwork, self).__init__()\n",
    "        self.layer1 = nn.Linear(input_size, 64)\n",
    "        self.layer2 = nn.Linear(64, 128)\n",
    "        self.layer3 = nn.Linear(128, 64)\n",
    "        self.layer4 = nn.Linear(64, 32)\n",
    "        self.output = nn.Linear(32, 1)  # Output layer for regression\n",
    "\n",
    "    def forward(self, x):\n",
    "        x = torch.relu(self.layer1(x))\n",
    "        x = torch.relu(self.layer2(x))\n",
    "        x = torch.relu(self.layer3(x))\n",
    "        x = torch.relu(self.layer4(x))\n",
    "        return self.output(x)\n",
    "\n",
    "# Initialize the model\n",
    "model = NeuralNetwork(input_size=X_train.shape[1])\n",
    "\n",
    "# Use MSE loss for regression and Adam optimizer\n",
    "criterion = nn.MSELoss()\n",
    "optimizer = optim.Adam(model.parameters(), lr=0.1)\n",
    "\n",
    "num_epochs = 1000\n",
    "for epoch in range(num_epochs):\n",
    "    model.train()\n",
    "    \n",
    "    # Forward pass\n",
    "    y_pred = model(X_train)\n",
    "    loss = criterion(y_pred, y_train)\n",
    "    \n",
    "    # Backward pass and optimization\n",
    "    optimizer.zero_grad()\n",
    "    loss.backward()\n",
    "    optimizer.step()\n",
    "    \n",
    "    if (epoch + 1) % 10 == 0:\n",
    "        print(f'Epoch [{epoch+1}/{num_epochs}], Loss: {loss.item():.4f}')\n",
    "\n",
    "# Switch to evaluation mode\n",
    "model.eval()\n",
    "\n",
    "# Predict on the test set\n",
    "with torch.no_grad():\n",
    "    y_pred = model(X_test)\n",
    "\n",
    "# Convert predictions and targets to numpy arrays\n",
    "y_pred = y_pred.numpy()\n",
    "# y_test = y_test.numpy()"
   ]
  },
  {
   "cell_type": "code",
   "execution_count": 54,
   "metadata": {},
   "outputs": [
    {
     "name": "stdout",
     "output_type": "stream",
     "text": [
      "MAE: 76.56327056884766\n",
      "MSE: 71149.421875\n",
      "RMSE: 266.7384948730469\n",
      "R² Score: 0.6500434875488281\n"
     ]
    },
    {
     "name": "stderr",
     "output_type": "stream",
     "text": [
      "c:\\Users\\pulin\\AppData\\Local\\Programs\\Python\\Python311\\Lib\\site-packages\\sklearn\\metrics\\_regression.py:492: FutureWarning: 'squared' is deprecated in version 1.4 and will be removed in 1.6. To calculate the root mean squared error, use the function'root_mean_squared_error'.\n",
      "  warnings.warn(\n"
     ]
    }
   ],
   "source": [
    "# Mean Absolute Error (MAE)\n",
    "mae = mean_absolute_error(y_test, y_pred)\n",
    "print(f'MAE: {mae}')\n",
    "\n",
    "# Mean Squared Error (MSE)\n",
    "mse = mean_squared_error(y_test, y_pred)\n",
    "print(f'MSE: {mse}')\n",
    "\n",
    "# Root Mean Squared Error (RMSE)\n",
    "rmse = mean_squared_error(y_test, y_pred, squared=False)\n",
    "print(f'RMSE: {rmse}')\n",
    "\n",
    "# R² Score\n",
    "r2 = r2_score(y_test, y_pred)\n",
    "print(f'R² Score: {r2}')\n"
   ]
  },
  {
   "cell_type": "code",
   "execution_count": null,
   "metadata": {},
   "outputs": [],
   "source": []
  }
 ],
 "metadata": {
  "kernelspec": {
   "display_name": "Python 3",
   "language": "python",
   "name": "python3"
  },
  "language_info": {
   "codemirror_mode": {
    "name": "ipython",
    "version": 3
   },
   "file_extension": ".py",
   "mimetype": "text/x-python",
   "name": "python",
   "nbconvert_exporter": "python",
   "pygments_lexer": "ipython3",
   "version": "3.11.4"
  }
 },
 "nbformat": 4,
 "nbformat_minor": 2
}
